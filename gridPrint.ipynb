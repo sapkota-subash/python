{
  "cells": [
    {
      "cell_type": "code",
      "execution_count": 66,
      "metadata": {
        "colab": {
          "base_uri": "https://localhost:8080/"
        },
        "id": "-0cK97qkPiNk",
        "outputId": "d8dbde09-1fde-46c5-9798-1aec093c0303"
      },
      "outputs": [
        {
          "name": "stdout",
          "output_type": "stream",
          "text": [
            "Requirement already satisfied: PyPDF2 in /usr/local/lib/python3.11/dist-packages (3.0.1)\n"
          ]
        }
      ],
      "source": [
        "!pip install PyPDF2"
      ]
    },
    {
      "cell_type": "code",
      "execution_count": 82,
      "metadata": {
        "id": "jNbdHJM97x3K"
      },
      "outputs": [],
      "source": [
        "input_pdf_filepath= 'input.pdf'  # input PDF file path\n",
        "output_pdf_filename = 'output.pdf'  # Output file name\n",
        "rows, cols = 2, 2"
      ]
    },
    {
      "cell_type": "code",
      "execution_count": 83,
      "metadata": {
        "id": "RgSp3rS6G9NV"
      },
      "outputs": [],
      "source": [
        "from PyPDF2 import PdfReader, PdfWriter\n",
        "\n",
        "def create_grid_pdf(input_pdf, rows, cols, output_pdf):\n",
        "    # Read the original PDF\n",
        "    reader = PdfReader(input_pdf)\n",
        "    page = reader.pages[0]  # Get the first page\n",
        "\n",
        "    writer = PdfWriter()\n",
        "\n",
        "    # Get dimensions of the original page\n",
        "    original_width = page.mediabox.width\n",
        "    original_height = page.mediabox.height\n",
        "    print(\"original size: \",original_width, original_height)\n",
        "\n",
        "    # Calculate dimensions for each grid cell\n",
        "    cell_width = original_width / cols\n",
        "    cell_height = original_height / rows\n",
        "    print(\"cell_width:\", cell_width, \"cell_height:\", cell_height)\n",
        "\n",
        "    for row in range(rows):\n",
        "        for col in range(cols):\n",
        "            new_page = writer.add_page(page)\n",
        "\n",
        "            # # Calculate translation for the current cell\n",
        "            x_offset = col * cell_width\n",
        "            y_offset = row * cell_height\n",
        "\n",
        "            # Adjusting the position of content on the new page\n",
        "            new_page.mediabox.lower_left = (x_offset, y_offset)\n",
        "            new_page.mediabox.upper_right = (x_offset + cell_width, y_offset + cell_height)\n",
        "\n",
        "    # Write out the new PDF with all grid pages\n",
        "    with open(output_pdf, \"wb\") as f:\n",
        "        writer.write(f)\n"
      ]
    },
    {
      "cell_type": "code",
      "execution_count": 84,
      "metadata": {
        "colab": {
          "base_uri": "https://localhost:8080/"
        },
        "id": "9FJgDHoKHNrB",
        "outputId": "1d36e5f9-90cb-45d6-945a-ea3966ea34d4"
      },
      "outputs": [
        {
          "name": "stdout",
          "output_type": "stream",
          "text": [
            "original size:  4275.0 2475.0\n",
            "cell_width: 2137.5 cell_height: 1237.5\n"
          ]
        }
      ],
      "source": [
        "# usage:\n",
        "create_grid_pdf(input_pdf_filepath, rows, cols,output_pdf_filename )"
      ]
    }
  ],
  "metadata": {
    "colab": {
      "provenance": []
    },
    "kernelspec": {
      "display_name": "Python 3",
      "name": "python3"
    },
    "language_info": {
      "name": "python"
    }
  },
  "nbformat": 4,
  "nbformat_minor": 0
}
